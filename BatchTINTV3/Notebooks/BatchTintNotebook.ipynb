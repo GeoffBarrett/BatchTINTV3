{
 "cells": [
  {
   "cell_type": "code",
   "execution_count": 1,
   "metadata": {},
   "outputs": [],
   "source": [
    "import os, sys\n",
    "\n",
    "notebook_path = os.path.dirname(os.path.abspath(\"__file__\"))\n",
    "# the code path is two folders up from this notebook + /code\n",
    "core_path = os.path.dirname(notebook_path)\n",
    "basepath = os.path.dirname(os.path.dirname(notebook_path))\n",
    "\n",
    "sys.path.append(core_path)\n",
    "sys.path.append(basepath)\n",
    "\n",
    "from core.klusta_functions import klusta\n",
    "from core.klusta_utils import session_analyzable, find_tetrodes\n",
    "from core.Tint_Matlab import get_setfile_parameter\n",
    "from core.defaultParameters import get_default_settings, calculateUseFeatures"
   ]
  },
  {
   "cell_type": "markdown",
   "metadata": {},
   "source": [
    "# Define Settings"
   ]
  },
  {
   "cell_type": "code",
   "execution_count": 2,
   "metadata": {},
   "outputs": [],
   "source": [
    "def get_temp_files(set_path, append=None):\n",
    "\n",
    "    if append is None:\n",
    "        ini_filename_value = str('Filename=\"%s\"' % set_path)\n",
    "    else:\n",
    "        ini_filename_value = str('Filename=\"%s%s\"' % (set_path, append))\n",
    "\n",
    "    ini_filename_value = str('Filename=\"%s%s\"' % (set_path, append))\n",
    "\n",
    "    directory = os.path.dirname(set_path)\n",
    "    \n",
    "    basename = os.path.basename(set_path)\n",
    "    if append is not None:\n",
    "        basename += append\n",
    "        \n",
    "    file_list = os.listdir(directory)\n",
    "    \n",
    "    # temp_files = [os.path.join(directory, file) for file in file_list if basename in file]\n",
    "    temp_files = [os.path.join(directory, file) for file in file_list if basename in file and is_temp_ext(os.path.join(directory, file))]\n",
    "    \n",
    "    return temp_files\n",
    "\n",
    "def ext_found(filename, ex):\n",
    "    if filename.find(ex) != -1:\n",
    "        return True\n",
    "    return False\n",
    "\n",
    "def is_temp_ext(filename):\n",
    "    \n",
    "    extensions = ['.temp.clu.', '.klg.', '.initialclusters.', '.fmask.', '.fet.']\n",
    "    \n",
    "    if any(ext_found(filename, ex) for ex in extensions):\n",
    "        for ex in extensions:\n",
    "            if ex in filename:\n",
    "                filename = filename[filename.find(ex):]\n",
    "                if any(ex == x for x in ['.temp.clu.', '.klg.', '.fmask.', '.fet.']):\n",
    "                    try:\n",
    "                        int(os.path.splitext(filename[1:])[-1][1:])\n",
    "                        return True\n",
    "                    except ValueError:\n",
    "                        pass\n",
    "                elif '.initialclusters.' in ex:\n",
    "                    filename = filename.split('.')\n",
    "                    try:\n",
    "                        int(filename[2])\n",
    "                        int(filename[4])\n",
    "                        return True\n",
    "                    except ValueError:\n",
    "                        pass\n",
    "    return False\n",
    "            "
   ]
  },
  {
   "cell_type": "code",
   "execution_count": 3,
   "metadata": {},
   "outputs": [],
   "source": [
    "settings = get_default_settings()\n",
    "\n",
    "# the default naming structure is the directory\\session_basename_tetrodeNumber.cut\n",
    "# for example: C:\\Example\\ExampleSession_1.cut for tetrode 1.\n",
    "# However, there may be a cause where you want to re-analyze with different cut file nomenclature\n",
    "# so we will allow you to append a value to the end to produce the following:\n",
    "# directory\\session_basename[appendValue]_tetrodeNumber.cut\n",
    "# so if we append 'TEST' the output would be: C:\\Example\\ExampleSessionTEST_1.cut for tetrode 1\n",
    "# set the cut_append value to None for the default\n",
    "cut_append='KK'  # custom append value\n",
    "# cut_append=None  # uncomment this for default value\n",
    "\n",
    "# channels to use:\n",
    "settings['1'] = 1  # defaults to 1, which is on\n",
    "settings['2'] = 1  # defaults to 1, which is on\n",
    "settings['3'] = 1  # defaults to 1, which is on\n",
    "settings['4'] = 1  # defaults to 1, which is on\n",
    "\n",
    "# features to use:\n",
    "settings['PC1'] = 1  # defaults to 1, which is on\n",
    "settings['PC2'] = 1  # defaults to 1, which is on\n",
    "settings['PC3'] = 1  # defaults to 1, which is on\n",
    "settings['PC4'] = 0  # defaults to 0, which is off\n",
    "settings['A'] = 0  # defaults to 0, which is off\n",
    "settings['Vt'] = 0  # defaults to 0, which is off\n",
    "settings['P'] = 0  # defaults to 0, which is off\n",
    "settings['T'] = 0  # defaults to 0, which is off\n",
    "settings['tP'] = 0  # defaults to 0, which is off\n",
    "settings['tT'] = 0  # defaults to 0, which is off\n",
    "settings['En'] = 0  # defaults to 0, which is off\n",
    "settings['Ar'] = 0  # defaults to 0, which is off\n",
    "\n",
    "# re-caculating the feature masks (if channel 2 is off, we will make sure to ignore\n",
    "# those features)\n",
    "UseFeatures, numFeats = calculateUseFeatures(settings)\n",
    "settings['UseFeatures'] = UseFeatures  # feature mask\n",
    "settings['NumFeat'] = numFeats  # number of features used\n",
    "\n",
    "# Advanced KlustaKwik Parameters\n",
    "settings['MaxPos'] = 30  # default 3\n",
    "settings['nStarts'] = 1  # default = 1\n",
    "settings['RandomSeed'] = 1  # default = 1\n",
    "settings['DistThresh'] = 6.907755  # default is 6.907755\n",
    "settings['FullStepEvery'] = 20  # default is 20\n",
    "settings['ChangedThresh'] = 0.05  # default is 0.05\n",
    "settings['MaxIter'] = 500  # default is 500\n",
    "settings['SplitEvery'] = 40  # default is 40\n",
    "settings['Subset'] = 1 # default is 1\n",
    "settings['PenaltyK'] = 1.0  # default is 1.0\n",
    "settings['PenaltyKLogN'] = 0.0  # default is 0.0\n",
    "\n",
    "# Reporting Values\n",
    "settings['Verbose'] = 1  # default of 1\n",
    "settings['Screen'] = 1  # default of 1\n",
    "settings['Log File'] = 1  # default of 1\n",
    "\n",
    "\n",
    "# Misc Settings\n",
    "settings['Silent'] = 0   # the KK windows will pop up\n",
    "# number of simultaneous threads to analyze, defaults to 1, uncomment to override\n",
    "settings['NumThreads'] = 4  # default is 1\n",
    "settings['Cores'] = os.cpu_count()\n",
    "\n",
    "# Experimenter Settings\n",
    "experimenter_settings = {\n",
    "    'Geoff' : 'geoffrey.m.barrett@gmail.com' # can do [email1@.., email2@..] if you want it sent to more than 1\n",
    "}\n",
    "\n",
    "# Email Settings\n",
    "smtp_settings = {}\n",
    "smtp_settings['Notification'] = 0 #  1 for send e-mails, 0 for don't send\n",
    "\n",
    "# if you have the notifications set to 0 you don't have to worry about this.\n",
    "# we will need an e-mail to send these experimenter's e-mails from\n",
    "smtp_settings['Username'] = 'example@gmail.com'\n",
    "smtp_settings['Password'] = 'password'  # associated password\n",
    "smtp_settings['ServerName'] = 'smtp.gmail.com' # the smtp server name, 'smtp.gmail.com' for gmail\n",
    "smtp_settings['Port'] = 587  # 587 default for gmail"
   ]
  },
  {
   "cell_type": "markdown",
   "metadata": {},
   "source": [
    "# Analyze Directory"
   ]
  },
  {
   "cell_type": "code",
   "execution_count": 4,
   "metadata": {},
   "outputs": [],
   "source": [
    "batch = True\n",
    "\n",
    "if batch:\n",
    "    settings['nonbatch'] = 0\n",
    "else:\n",
    "    settings['nonbatch'] = 1\n",
    "\n",
    "settings['MoveFiles'] = 0  # set to 1 if you want to move to \"processed\" folder\n",
    "    \n",
    "directory = r'E:\\Apollo_D_Drive\\data\\VirtualMazeData\\ANT1_2\\ParallelLinearGlobalTrack'\n",
    "directory = r'E:\\Apollo_D_Drive\\data\\VirtualMazeData\\NT_360a_2\\ParallelLinearGlobalTrack'\n",
    "directory = r'C:\\Users\\Taub Institute\\Desktop\\test_batchtint'\n",
    "# directory = r'E:\\Apollo_D_Drive\\data\\MSData\\AxonaVsIntan\\b6_august_1\\Axona'\n",
    "# directory = r'E:\\Apollo_D_Drive\\data\\VirtualMazeData\\NT_361a_2\\ParallelLinearGlobalTrack'\n",
    "# directory = r'C:\\Users\\Taub Institute\\Desktop\\test_batchtint'"
   ]
  },
  {
   "cell_type": "markdown",
   "metadata": {},
   "source": [
    "# Finds Sessions"
   ]
  },
  {
   "cell_type": "code",
   "execution_count": 5,
   "metadata": {},
   "outputs": [],
   "source": [
    "if batch:\n",
    "    sub_directories = [d for d in os.listdir(directory)\n",
    "                                   if os.path.isdir(os.path.join(directory, d)) and\n",
    "                                   d not in ['Processed', 'Converted']]  # finds the subdirectories within each folder\n",
    "\n",
    "else:\n",
    "    sub_directories = [os.path.basename(directory)]\n",
    "    directory = os.path.dirname(directory)\n",
    "\n",
    "set_files = []\n",
    "if len(sub_directories) > 0:\n",
    "    [[set_files.append(os.path.join(directory, d, file)) for file in os.listdir(os.path.join(directory, d))\n",
    "                             if '.set' in file and\n",
    "                             not os.path.isdir(os.path.join(directory, d, file))] for d in sub_directories]"
   ]
  },
  {
   "cell_type": "code",
   "execution_count": 6,
   "metadata": {},
   "outputs": [
    {
     "name": "stdout",
     "output_type": "stream",
     "text": [
      "There are 4 total set files found!\n"
     ]
    }
   ],
   "source": [
    "print('There are %d total set files found!' % (len(set_files)))"
   ]
  },
  {
   "cell_type": "code",
   "execution_count": 7,
   "metadata": {},
   "outputs": [],
   "source": [
    "single_file = False\n",
    "if single_file:\n",
    "    basename = 'NT_360a_2_1000_plgt_190403_103311_ms'\n",
    "    set_files = [file for file in set_files if basename in file]"
   ]
  },
  {
   "cell_type": "code",
   "execution_count": 8,
   "metadata": {},
   "outputs": [],
   "source": [
    "# checking that the set files are analyzable (have the appropriate files, or don't have\n",
    "# existing cut values already. Essentially all it needs are the tetrode files.\n",
    "if set_files:\n",
    "    set_files = [file for file in set_files if session_analyzable(os.path.dirname(file), \n",
    "                                                             os.path.splitext(\n",
    "                                                                 os.path.basename(file))[0],\n",
    "                                                            append=cut_append)]"
   ]
  },
  {
   "cell_type": "code",
   "execution_count": 9,
   "metadata": {},
   "outputs": [
    {
     "name": "stdout",
     "output_type": "stream",
     "text": [
      "There are 4 un-analyzed set files found!\n"
     ]
    }
   ],
   "source": [
    "print('There are %d un-analyzed set files found!' % (len(set_files)))"
   ]
  },
  {
   "cell_type": "code",
   "execution_count": null,
   "metadata": {},
   "outputs": [
    {
     "name": "stdout",
     "output_type": "stream",
     "text": [
      "[2019-04-21 18:23:01]: There are 4 '.set' files to analyze!\n",
      "[2019-04-21 18:23:01]: Now analyzing tetrodes associated with the 20160516-27-SmallBox-1250um-Test1_sample '.set' file (1/4)!\n",
      "[2019-04-21 18:23:01]: Now analyzing the following file: 20160516-27-SmallBox-1250um-Test1_sample.1!\n",
      "[2019-04-21 18:23:01]: Now analyzing the following file: 20160516-27-SmallBox-1250um-Test1_sample.2!\n",
      "[2019-04-21 18:23:01]: Now analyzing the following file: 20160516-27-SmallBox-1250um-Test1_sample.4!\n"
     ]
    }
   ],
   "source": [
    "analyzed_set_files = klusta(set_files, settings, \n",
    "       smtp_settings=smtp_settings, \n",
    "       experimenter_settings=experimenter_settings,\n",
    "                           append=cut_append)"
   ]
  },
  {
   "cell_type": "markdown",
   "metadata": {},
   "source": [
    "# Delete Temp Files\n",
    "There are files that KlustaKwik creates that is not necessary after the klusta has been performed, so we will delete them if you set delete_temp to True"
   ]
  },
  {
   "cell_type": "code",
   "execution_count": 18,
   "metadata": {},
   "outputs": [
    {
     "name": "stdout",
     "output_type": "stream",
     "text": [
      "20 files to delete for the following set path: E:\\Apollo_D_Drive\\data\\VirtualMazeData\\NT_360a_2\\ParallelLinearGlobalTrack\\NT_360a_2_1000_plgt_190405_091142_ms\n",
      "20 files to delete for the following set path: E:\\Apollo_D_Drive\\data\\VirtualMazeData\\NT_360a_2\\ParallelLinearGlobalTrack\\NT_360a_2_1000_plgt_190405_124403_ms\n",
      "20 files to delete for the following set path: E:\\Apollo_D_Drive\\data\\VirtualMazeData\\NT_360a_2\\ParallelLinearGlobalTrack\\NT_360a_2_1000_plgt_190408_094250_ms\n",
      "20 files to delete for the following set path: E:\\Apollo_D_Drive\\data\\VirtualMazeData\\NT_360a_2\\ParallelLinearGlobalTrack\\NT_360a_2_1000_plgt_190408_133756_ms\n",
      "20 files to delete for the following set path: E:\\Apollo_D_Drive\\data\\VirtualMazeData\\NT_360a_2\\ParallelLinearGlobalTrack\\NT_360a_2_1000_plgt_190409_101329_ms\n",
      "20 files to delete for the following set path: E:\\Apollo_D_Drive\\data\\VirtualMazeData\\NT_360a_2\\ParallelLinearGlobalTrack\\NT_360a_2_1000_plgt_190409_133348_ms\n",
      "20 files to delete for the following set path: E:\\Apollo_D_Drive\\data\\VirtualMazeData\\NT_360a_2\\ParallelLinearGlobalTrack\\NT_360a_2_1000_plgt_190410_134358_ms\n",
      "20 files to delete for the following set path: E:\\Apollo_D_Drive\\data\\VirtualMazeData\\NT_360a_2\\ParallelLinearGlobalTrack\\NT_360a_2_1000_plgt_190412_104834_ms\n",
      "20 files to delete for the following set path: E:\\Apollo_D_Drive\\data\\VirtualMazeData\\NT_360a_2\\ParallelLinearGlobalTrack\\NT_360a_2_1000_plgt_190412_135352_ms\n",
      "20 files to delete for the following set path: E:\\Apollo_D_Drive\\data\\VirtualMazeData\\NT_360a_2\\ParallelLinearGlobalTrack\\NT_360a_2_1025_plgt_190416_103946_ms\n",
      "20 files to delete for the following set path: E:\\Apollo_D_Drive\\data\\VirtualMazeData\\NT_360a_2\\ParallelLinearGlobalTrack\\NT_360a_2_1025_plgt_190416_131326_ms\n"
     ]
    }
   ],
   "source": [
    "delete_temp = True\n",
    "\n",
    "if delete_temp:\n",
    "    \n",
    "    for file in set_files:\n",
    "        set_path = os.path.splitext(file)[0]\n",
    "        temp_files = get_temp_files(set_path, append=cut_append)\n",
    "        print('%d files to delete for the following set path: %s' % (len(temp_files), set_path))\n",
    "        for _f in temp_files:\n",
    "            os.remove(_f)"
   ]
  },
  {
   "cell_type": "markdown",
   "metadata": {},
   "source": [
    "# delete all temp files"
   ]
  },
  {
   "cell_type": "code",
   "execution_count": 7,
   "metadata": {},
   "outputs": [],
   "source": [
    "all_set_files = []\n",
    "if len(sub_directories) > 0:\n",
    "    [[all_set_files.append(os.path.join(directory, d, file)) for file in os.listdir(os.path.join(directory, d))\n",
    "                             if '.set' in file and\n",
    "                             not os.path.isdir(os.path.join(directory, d, file))] for d in sub_directories]"
   ]
  },
  {
   "cell_type": "code",
   "execution_count": 8,
   "metadata": {},
   "outputs": [
    {
     "name": "stdout",
     "output_type": "stream",
     "text": [
      "20 files to delete for the following set path: E:\\Apollo_D_Drive\\data\\VirtualMazeData\\NT_360a_2\\ParallelLinearGlobalTrack\\NT_360a_1_1025_plgt_190415_121659_ms\n",
      "20 files to delete for the following set path: E:\\Apollo_D_Drive\\data\\VirtualMazeData\\NT_360a_2\\ParallelLinearGlobalTrack\\NT_360a_1_1025_plgt_190415_144038_ms\n",
      "20 files to delete for the following set path: E:\\Apollo_D_Drive\\data\\VirtualMazeData\\NT_360a_2\\ParallelLinearGlobalTrack\\NT_360a_2_1000_plgt_190401_154208_ms\n",
      "20 files to delete for the following set path: E:\\Apollo_D_Drive\\data\\VirtualMazeData\\NT_360a_2\\ParallelLinearGlobalTrack\\NT_360a_2_1000_plgt_190402_094238_ms\n",
      "20 files to delete for the following set path: E:\\Apollo_D_Drive\\data\\VirtualMazeData\\NT_360a_2\\ParallelLinearGlobalTrack\\NT_360a_2_1000_plgt_190402_133222_ms\n",
      "20 files to delete for the following set path: E:\\Apollo_D_Drive\\data\\VirtualMazeData\\NT_360a_2\\ParallelLinearGlobalTrack\\NT_360a_2_1000_plgt_190403_103311_ms\n",
      "19 files to delete for the following set path: E:\\Apollo_D_Drive\\data\\VirtualMazeData\\NT_360a_2\\ParallelLinearGlobalTrack\\NT_360a_2_1000_plgt_190403_130117_ms\n",
      "20 files to delete for the following set path: E:\\Apollo_D_Drive\\data\\VirtualMazeData\\NT_360a_2\\ParallelLinearGlobalTrack\\NT_360a_2_1000_plgt_190404_104359_ms\n",
      "20 files to delete for the following set path: E:\\Apollo_D_Drive\\data\\VirtualMazeData\\NT_360a_2\\ParallelLinearGlobalTrack\\NT_360a_2_1000_plgt_190404_135919_ms\n",
      "0 files to delete for the following set path: E:\\Apollo_D_Drive\\data\\VirtualMazeData\\NT_360a_2\\ParallelLinearGlobalTrack\\NT_360a_2_1000_plgt_190405_091142_ms\n",
      "0 files to delete for the following set path: E:\\Apollo_D_Drive\\data\\VirtualMazeData\\NT_360a_2\\ParallelLinearGlobalTrack\\NT_360a_2_1000_plgt_190405_124403_ms\n",
      "0 files to delete for the following set path: E:\\Apollo_D_Drive\\data\\VirtualMazeData\\NT_360a_2\\ParallelLinearGlobalTrack\\NT_360a_2_1000_plgt_190408_094250_ms\n",
      "0 files to delete for the following set path: E:\\Apollo_D_Drive\\data\\VirtualMazeData\\NT_360a_2\\ParallelLinearGlobalTrack\\NT_360a_2_1000_plgt_190408_133756_ms\n",
      "0 files to delete for the following set path: E:\\Apollo_D_Drive\\data\\VirtualMazeData\\NT_360a_2\\ParallelLinearGlobalTrack\\NT_360a_2_1000_plgt_190409_101329_ms\n",
      "0 files to delete for the following set path: E:\\Apollo_D_Drive\\data\\VirtualMazeData\\NT_360a_2\\ParallelLinearGlobalTrack\\NT_360a_2_1000_plgt_190409_133348_ms\n",
      "0 files to delete for the following set path: E:\\Apollo_D_Drive\\data\\VirtualMazeData\\NT_360a_2\\ParallelLinearGlobalTrack\\NT_360a_2_1000_plgt_190410_134358_ms\n",
      "0 files to delete for the following set path: E:\\Apollo_D_Drive\\data\\VirtualMazeData\\NT_360a_2\\ParallelLinearGlobalTrack\\NT_360a_2_1000_plgt_190412_104834_ms\n",
      "0 files to delete for the following set path: E:\\Apollo_D_Drive\\data\\VirtualMazeData\\NT_360a_2\\ParallelLinearGlobalTrack\\NT_360a_2_1000_plgt_190412_135352_ms\n",
      "0 files to delete for the following set path: E:\\Apollo_D_Drive\\data\\VirtualMazeData\\NT_360a_2\\ParallelLinearGlobalTrack\\NT_360a_2_1025_plgt_190416_103946_ms\n",
      "0 files to delete for the following set path: E:\\Apollo_D_Drive\\data\\VirtualMazeData\\NT_360a_2\\ParallelLinearGlobalTrack\\NT_360a_2_1025_plgt_190416_131326_ms\n"
     ]
    }
   ],
   "source": [
    "delete_all_temp = True\n",
    "\n",
    "if delete_all_temp:\n",
    "    \n",
    "    for file in all_set_files:\n",
    "        set_path = os.path.splitext(file)[0]\n",
    "        temp_files = get_temp_files(set_path, append=cut_append)\n",
    "        print('%d files to delete for the following set path: %s' % (len(temp_files), set_path))\n",
    "        for _f in temp_files:\n",
    "            os.remove(_f)"
   ]
  },
  {
   "cell_type": "code",
   "execution_count": null,
   "metadata": {},
   "outputs": [],
   "source": []
  }
 ],
 "metadata": {
  "kernelspec": {
   "display_name": "Python 3",
   "language": "python",
   "name": "python3"
  },
  "language_info": {
   "codemirror_mode": {
    "name": "ipython",
    "version": 3
   },
   "file_extension": ".py",
   "mimetype": "text/x-python",
   "name": "python",
   "nbconvert_exporter": "python",
   "pygments_lexer": "ipython3",
   "version": "3.7.0"
  }
 },
 "nbformat": 4,
 "nbformat_minor": 2
}
