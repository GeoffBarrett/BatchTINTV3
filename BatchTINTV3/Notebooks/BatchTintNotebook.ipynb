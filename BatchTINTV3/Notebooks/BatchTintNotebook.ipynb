{
 "cells": [
  {
   "cell_type": "code",
   "execution_count": 1,
   "metadata": {},
   "outputs": [],
   "source": [
    "import os, sys\n",
    "\n",
    "notebook_path = os.path.dirname(os.path.abspath(\"__file__\"))\n",
    "# the code path is two folders up from this notebook + /code\n",
    "core_path = os.path.dirname(notebook_path)\n",
    "basepath = os.path.dirname(os.path.dirname(notebook_path))\n",
    "\n",
    "sys.path.append(core_path)\n",
    "sys.path.append(basepath)\n",
    "\n",
    "from core.KlustaFunctions import session_analyzable, find_tetrodes, klusta\n",
    "from core.Tint_Matlab import get_setfile_parameter\n",
    "from core.defaultParameters import get_default_settings, calculateUseFeatures"
   ]
  },
  {
   "cell_type": "markdown",
   "metadata": {},
   "source": [
    "# Define Settings"
   ]
  },
  {
   "cell_type": "code",
   "execution_count": 2,
   "metadata": {},
   "outputs": [],
   "source": [
    "settings = get_default_settings()\n",
    "\n",
    "# the default naming structure is the directory\\session_basename_tetrodeNumber.cut\n",
    "# for example: C:\\Example\\ExampleSession_1.cut for tetrode 1.\n",
    "# However, there may be a cause where you want to re-analyze with different cut file nomenclature\n",
    "# so we will allow you to append a value to the end to produce the following:\n",
    "# directory\\session_basename[appendValue]_tetrodeNumber.cut\n",
    "# so if we append 'TEST' the output would be: C:\\Example\\ExampleSessionTEST_1.cut for tetrode 1\n",
    "# set the cut_append value to None for the default\n",
    "cut_append='KK'  # custom append value\n",
    "# cut_append=None  # uncomment this for default value\n",
    "\n",
    "# channels to use:\n",
    "settings['1'] = 1  # defaults to 1, which is on\n",
    "settings['2'] = 1  # defaults to 1, which is on\n",
    "settings['3'] = 1  # defaults to 1, which is on\n",
    "settings['4'] = 1  # defaults to 1, which is on\n",
    "\n",
    "# features to use:\n",
    "settings['PC1'] = 1  # defaults to 1, which is on\n",
    "settings['PC2'] = 1  # defaults to 1, which is on\n",
    "settings['PC3'] = 1  # defaults to 1, which is on\n",
    "settings['PC4'] = 0  # defaults to 0, which is off\n",
    "settings['A'] = 0  # defaults to 0, which is off\n",
    "settings['Vt'] = 0  # defaults to 0, which is off\n",
    "settings['P'] = 0  # defaults to 0, which is off\n",
    "settings['T'] = 0  # defaults to 0, which is off\n",
    "settings['tP'] = 0  # defaults to 0, which is off\n",
    "settings['tT'] = 0  # defaults to 0, which is off\n",
    "settings['En'] = 0  # defaults to 0, which is off\n",
    "settings['Ar'] = 0  # defaults to 0, which is off\n",
    "\n",
    "# re-caculating the feature masks (if channel 2 is off, we will make sure to ignore\n",
    "# those features)\n",
    "UseFeatures, numFeats = calculateUseFeatures(settings)\n",
    "settings['UseFeatures'] = UseFeatures  # feature mask\n",
    "settings['NumFeat'] = numFeats  # number of features used\n",
    "\n",
    "# Advanced KlustaKwik Parameters\n",
    "settings['MaxPos'] = 30  # default 3\n",
    "settings['nStarts'] = 1  # default = 1\n",
    "settings['RandomSeed'] = 1  # default = 1\n",
    "settings['DistThresh'] = 6.907755  # default is 6.907755\n",
    "settings['FullStepEvery'] = 20  # default is 20\n",
    "settings['ChangedThresh'] = 0.05  # default is 0.05\n",
    "settings['MaxIter'] = 500  # default is 500\n",
    "settings['SplitEvery'] = 40  # default is 40\n",
    "settings['Subset'] = 1 # default is 1\n",
    "settings['PenaltyK'] = 1.0  # default is 1.0\n",
    "settings['PenaltyKLogN'] = 0.0  # default is 0.0\n",
    "\n",
    "# Reporting Values\n",
    "settings['Verbose'] = 1  # default of 1\n",
    "settings['Screen'] = 1  # default of 1\n",
    "settings['Log File'] = 1  # default of 1\n",
    "\n",
    "\n",
    "# Misc Settings\n",
    "settings['Silent'] = 0   # the KK windows will pop up\n",
    "# number of simultaneous threads to analyze, defaults to 1, uncomment to override\n",
    "settings['NumThreads'] = 4  # default is 1\n",
    "settings['Cores'] = os.cpu_count()\n",
    "\n",
    "\n",
    "# Experimenter Settings\n",
    "experimenter_settings = {\n",
    "    'Geoff' : 'geoffrey.m.barrett@gmail.com' # can do [email1@.., email2@..] if you want it sent to more than 1\n",
    "}\n",
    "\n",
    "# Email Settings\n",
    "smtp_settings = {}\n",
    "smtp_settings['Notification'] = 0 #  1 for send e-mails, 0 for don't send\n",
    "\n",
    "# if you have the notifications set to 0 you don't have to worry about this.\n",
    "# we will need an e-mail to send these experimenter's e-mails from\n",
    "smtp_settings['Username'] = 'example@gmail.com'\n",
    "smtp_settings['Password'] = 'password'  # associated password\n",
    "smtp_settings['ServerName'] = 'smtp.gmail.com' # the smtp server name, 'smtp.gmail.com' for gmail\n",
    "smtp_settings['Port'] = 587  # 587 default for gmail"
   ]
  },
  {
   "cell_type": "markdown",
   "metadata": {},
   "source": [
    "# Analyze Directory"
   ]
  },
  {
   "cell_type": "code",
   "execution_count": 3,
   "metadata": {},
   "outputs": [],
   "source": [
    "batch = True\n",
    "\n",
    "if batch:\n",
    "    settings['nonbatch'] = 0\n",
    "else:\n",
    "    settings['nonbatch'] = 1\n",
    "\n",
    "directory = r'E:\\Apollo_D_Drive\\data\\VirtualMazeData\\ANT1_2'\n",
    "directory = r'C:\\Users\\Taub Institute\\Desktop\\test_batchtint'"
   ]
  },
  {
   "cell_type": "markdown",
   "metadata": {},
   "source": [
    "# Finds Sessions"
   ]
  },
  {
   "cell_type": "code",
   "execution_count": 4,
   "metadata": {},
   "outputs": [],
   "source": [
    "if batch:\n",
    "    sub_directories = [d for d in os.listdir(directory)\n",
    "                                   if os.path.isdir(os.path.join(directory, d)) and\n",
    "                                   d not in ['Processed', 'Converted']]  # finds the subdirectories within each folder\n",
    "\n",
    "else:\n",
    "    sub_directories = [os.path.basename(directory)]\n",
    "    directory = os.path.dirname(directory)\n",
    "\n",
    "set_files = []\n",
    "if len(sub_directories) > 0:\n",
    "    [[set_files.append(os.path.join(directory, d, file)) for file in os.listdir(os.path.join(directory, d))\n",
    "                             if '.set' in file and\n",
    "                             not os.path.isdir(os.path.join(directory, d, file))] for d in sub_directories]"
   ]
  },
  {
   "cell_type": "code",
   "execution_count": 5,
   "metadata": {},
   "outputs": [
    {
     "name": "stdout",
     "output_type": "stream",
     "text": [
      "There are 4 total set files found!\n"
     ]
    }
   ],
   "source": [
    "print('There are %d total set files found!' % (len(set_files)))"
   ]
  },
  {
   "cell_type": "code",
   "execution_count": 6,
   "metadata": {},
   "outputs": [],
   "source": [
    "# checking that the set files are analyzable (have the appropriate files, or don't have\n",
    "# existing cut values already. Essentially all it needs are the tetrode files.\n",
    "if set_files:\n",
    "    set_files = [file for file in set_files if session_analyzable(os.path.dirname(file), \n",
    "                                                             os.path.splitext(\n",
    "                                                                 os.path.basename(file))[0],\n",
    "                                                            append=cut_append)]"
   ]
  },
  {
   "cell_type": "code",
   "execution_count": 7,
   "metadata": {},
   "outputs": [
    {
     "name": "stdout",
     "output_type": "stream",
     "text": [
      "There are 4 un-analyzed set files found!\n"
     ]
    }
   ],
   "source": [
    "print('There are %d un-analyzed set files found!' % (len(set_files)))"
   ]
  },
  {
   "cell_type": "code",
   "execution_count": 8,
   "metadata": {},
   "outputs": [
    {
     "name": "stdout",
     "output_type": "stream",
     "text": [
      "[2019-04-02 16:27:45]: There are 4 '.set' files to analyze!\n",
      "[2019-04-02 16:27:45]: Now analyzing tetrodes associated with the 20160516-27-SmallBox-1250um-Test1_sample '.set' file (1/4)!\n",
      "[2019-04-02 16:27:45]: Now analyzing the following file: 20160516-27-SmallBox-1250um-Test1_sample.1!\n",
      "[2019-04-02 16:27:45]: Now analyzing the following file: 20160516-27-SmallBox-1250um-Test1_sample.2!\n",
      "[2019-04-02 16:27:45]: Now analyzing the following file: 20160516-27-SmallBox-1250um-Test1_sample.4!\n",
      "[2019-04-02 16:27:59]: The analysis of the 20160516-27-SmallBox-1250um-Test1_sample.1 file has finished!\n",
      "[2019-04-02 16:28:03]: The analysis of the 20160516-27-SmallBox-1250um-Test1_sample.2 file has finished!\n",
      "[2019-04-02 16:28:07]: The analysis of the 20160516-27-SmallBox-1250um-Test1_sample.4 file has finished!\n",
      "[2019-04-02 16:28:07]: Analysis for the following directory has been completed: C:\\Users\\Taub Institute\\Desktop\\test_batchtint\\small_sample!\n",
      "[2019-04-02 16:28:07]: Now analyzing tetrodes associated with the 20160516-27-SmallBox-1250um-Test1_sample - Copy '.set' file (2/4)!\n",
      "[2019-04-02 16:28:07]: Now analyzing the following file: 20160516-27-SmallBox-1250um-Test1_sample - Copy.1![2019-04-02 16:28:07]: Now analyzing the following file: 20160516-27-SmallBox-1250um-Test1_sample - Copy.2!\n",
      "\n",
      "[2019-04-02 16:28:07]: Now analyzing the following file: 20160516-27-SmallBox-1250um-Test1_sample - Copy.4!\n",
      "[2019-04-02 16:28:21]: The analysis of the 20160516-27-SmallBox-1250um-Test1_sample - Copy.4 file has finished!\n",
      "[2019-04-02 16:28:25]: The analysis of the 20160516-27-SmallBox-1250um-Test1_sample - Copy.1 file has finished!\n",
      "[2019-04-02 16:28:29]: The analysis of the 20160516-27-SmallBox-1250um-Test1_sample - Copy.2 file has finished!\n",
      "[2019-04-02 16:28:29]: Now analyzing tetrodes associated with the 20160516-27-SmallBox-1250um-Test1_sample '.set' file (3/4)!\n",
      "[2019-04-02 16:28:29]: Now analyzing the following file: 20160516-27-SmallBox-1250um-Test1_sample.1!\n",
      "[2019-04-02 16:28:29]: Now analyzing the following file: 20160516-27-SmallBox-1250um-Test1_sample.2!\n",
      "[2019-04-02 16:28:29]: Now analyzing the following file: 20160516-27-SmallBox-1250um-Test1_sample.4!\n",
      "[2019-04-02 16:28:43]: The analysis of the 20160516-27-SmallBox-1250um-Test1_sample.4 file has finished!\n",
      "[2019-04-02 16:28:47]: The analysis of the 20160516-27-SmallBox-1250um-Test1_sample.2 file has finished!\n",
      "[2019-04-02 16:28:51]: The analysis of the 20160516-27-SmallBox-1250um-Test1_sample.1 file has finished!\n",
      "[2019-04-02 16:28:51]: Analysis for the following directory has been completed: C:\\Users\\Taub Institute\\Desktop\\test_batchtint\\small_sample1!\n",
      "[2019-04-02 16:28:51]: Now analyzing tetrodes associated with the 20160516-27-SmallBox-1250um-Test1_sample '.set' file (4/4)!\n",
      "[2019-04-02 16:28:51]: Now analyzing the following file: 20160516-27-SmallBox-1250um-Test1_sample.1!\n",
      "[2019-04-02 16:28:51]: Now analyzing the following file: 20160516-27-SmallBox-1250um-Test1_sample.2!\n",
      "[2019-04-02 16:28:51]: Now analyzing the following file: 20160516-27-SmallBox-1250um-Test1_sample.4!\n",
      "[2019-04-02 16:29:05]: The analysis of the 20160516-27-SmallBox-1250um-Test1_sample.4 file has finished!\n",
      "[2019-04-02 16:29:09]: The analysis of the 20160516-27-SmallBox-1250um-Test1_sample.2 file has finished!\n",
      "[2019-04-02 16:29:13]: The analysis of the 20160516-27-SmallBox-1250um-Test1_sample.1 file has finished!\n",
      "[2019-04-02 16:29:13]: Analysis for the following directory has been completed: C:\\Users\\Taub Institute\\Desktop\\test_batchtint\\small_sample2!\n"
     ]
    }
   ],
   "source": [
    "analyzed_set_files = klusta(set_files, settings, \n",
    "       smtp_settings=smtp_settings, \n",
    "       experimenter_settings=experimenter_settings,\n",
    "                           append=cut_append)"
   ]
  },
  {
   "cell_type": "code",
   "execution_count": null,
   "metadata": {},
   "outputs": [],
   "source": []
  }
 ],
 "metadata": {
  "kernelspec": {
   "display_name": "Python 3",
   "language": "python",
   "name": "python3"
  },
  "language_info": {
   "codemirror_mode": {
    "name": "ipython",
    "version": 3
   },
   "file_extension": ".py",
   "mimetype": "text/x-python",
   "name": "python",
   "nbconvert_exporter": "python",
   "pygments_lexer": "ipython3",
   "version": "3.7.0"
  }
 },
 "nbformat": 4,
 "nbformat_minor": 2
}
